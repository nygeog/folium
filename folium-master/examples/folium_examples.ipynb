{
 "metadata": {
  "name": ""
 },
 "nbformat": 3,
 "nbformat_minor": 0,
 "worksheets": [
  {
   "cells": [
    {
     "cell_type": "code",
     "collapsed": false,
     "input": [
      "import folium\n",
      "import pandas as pd\n",
      "\n",
      "folium.initialize_notebook()"
     ],
     "language": "python",
     "metadata": {},
     "outputs": [
      {
       "ename": "TemplateNotFound",
       "evalue": "leaflet-dvf.markers.min.js",
       "output_type": "pyerr",
       "traceback": [
        "\u001b[0;31m---------------------------------------------------------------------------\u001b[0m\n\u001b[0;31mTemplateNotFound\u001b[0m                          Traceback (most recent call last)",
        "\u001b[0;32m<ipython-input-11-eab1a1a74772>\u001b[0m in \u001b[0;36m<module>\u001b[0;34m()\u001b[0m\n\u001b[1;32m      2\u001b[0m \u001b[0;32mimport\u001b[0m \u001b[0mpandas\u001b[0m \u001b[0;32mas\u001b[0m \u001b[0mpd\u001b[0m\u001b[0;34m\u001b[0m\u001b[0m\n\u001b[1;32m      3\u001b[0m \u001b[0;34m\u001b[0m\u001b[0m\n\u001b[0;32m----> 4\u001b[0;31m \u001b[0mfolium\u001b[0m\u001b[0;34m.\u001b[0m\u001b[0minitialize_notebook\u001b[0m\u001b[0;34m(\u001b[0m\u001b[0;34m)\u001b[0m\u001b[0;34m\u001b[0m\u001b[0m\n\u001b[0m",
        "\u001b[0;32m/Library/Python/2.7/site-packages/folium-0.1.5-py2.7.egg/folium/folium.pyc\u001b[0m in \u001b[0;36minitialize_notebook\u001b[0;34m()\u001b[0m\n\u001b[1;32m     38\u001b[0m     \u001b[0mlib_css\u001b[0m \u001b[0;34m=\u001b[0m \u001b[0mENV\u001b[0m\u001b[0;34m.\u001b[0m\u001b[0mget_template\u001b[0m\u001b[0;34m(\u001b[0m\u001b[0;34m'ipynb_init_css.html'\u001b[0m\u001b[0;34m)\u001b[0m\u001b[0;34m\u001b[0m\u001b[0m\n\u001b[1;32m     39\u001b[0m     \u001b[0mlib_js\u001b[0m \u001b[0;34m=\u001b[0m \u001b[0mENV\u001b[0m\u001b[0;34m.\u001b[0m\u001b[0mget_template\u001b[0m\u001b[0;34m(\u001b[0m\u001b[0;34m'ipynb_init_js.html'\u001b[0m\u001b[0;34m)\u001b[0m\u001b[0;34m\u001b[0m\u001b[0m\n\u001b[0;32m---> 40\u001b[0;31m     \u001b[0mleaflet_dvf\u001b[0m \u001b[0;34m=\u001b[0m \u001b[0mENV\u001b[0m\u001b[0;34m.\u001b[0m\u001b[0mget_template\u001b[0m\u001b[0;34m(\u001b[0m\u001b[0;34m'leaflet-dvf.markers.min.js'\u001b[0m\u001b[0;34m)\u001b[0m\u001b[0;34m\u001b[0m\u001b[0m\n\u001b[0m\u001b[1;32m     41\u001b[0m \u001b[0;34m\u001b[0m\u001b[0m\n\u001b[1;32m     42\u001b[0m     \u001b[0mdisplay\u001b[0m\u001b[0;34m(\u001b[0m\u001b[0mHTML\u001b[0m\u001b[0;34m(\u001b[0m\u001b[0mlib_css\u001b[0m\u001b[0;34m.\u001b[0m\u001b[0mrender\u001b[0m\u001b[0;34m(\u001b[0m\u001b[0;34m)\u001b[0m\u001b[0;34m)\u001b[0m\u001b[0;34m)\u001b[0m\u001b[0;34m\u001b[0m\u001b[0m\n",
        "\u001b[0;32m/Library/Python/2.7/site-packages/jinja2/environment.pyc\u001b[0m in \u001b[0;36mget_template\u001b[0;34m(self, name, parent, globals)\u001b[0m\n\u001b[1;32m    789\u001b[0m         \u001b[0;32mif\u001b[0m \u001b[0mparent\u001b[0m \u001b[0;32mis\u001b[0m \u001b[0;32mnot\u001b[0m \u001b[0mNone\u001b[0m\u001b[0;34m:\u001b[0m\u001b[0;34m\u001b[0m\u001b[0m\n\u001b[1;32m    790\u001b[0m             \u001b[0mname\u001b[0m \u001b[0;34m=\u001b[0m \u001b[0mself\u001b[0m\u001b[0;34m.\u001b[0m\u001b[0mjoin_path\u001b[0m\u001b[0;34m(\u001b[0m\u001b[0mname\u001b[0m\u001b[0;34m,\u001b[0m \u001b[0mparent\u001b[0m\u001b[0;34m)\u001b[0m\u001b[0;34m\u001b[0m\u001b[0m\n\u001b[0;32m--> 791\u001b[0;31m         \u001b[0;32mreturn\u001b[0m \u001b[0mself\u001b[0m\u001b[0;34m.\u001b[0m\u001b[0m_load_template\u001b[0m\u001b[0;34m(\u001b[0m\u001b[0mname\u001b[0m\u001b[0;34m,\u001b[0m \u001b[0mself\u001b[0m\u001b[0;34m.\u001b[0m\u001b[0mmake_globals\u001b[0m\u001b[0;34m(\u001b[0m\u001b[0mglobals\u001b[0m\u001b[0;34m)\u001b[0m\u001b[0;34m)\u001b[0m\u001b[0;34m\u001b[0m\u001b[0m\n\u001b[0m\u001b[1;32m    792\u001b[0m \u001b[0;34m\u001b[0m\u001b[0m\n\u001b[1;32m    793\u001b[0m     \u001b[0;34m@\u001b[0m\u001b[0minternalcode\u001b[0m\u001b[0;34m\u001b[0m\u001b[0m\n",
        "\u001b[0;32m/Library/Python/2.7/site-packages/jinja2/environment.pyc\u001b[0m in \u001b[0;36m_load_template\u001b[0;34m(self, name, globals)\u001b[0m\n\u001b[1;32m    763\u001b[0m                                          template.is_up_to_date):\n\u001b[1;32m    764\u001b[0m                 \u001b[0;32mreturn\u001b[0m \u001b[0mtemplate\u001b[0m\u001b[0;34m\u001b[0m\u001b[0m\n\u001b[0;32m--> 765\u001b[0;31m         \u001b[0mtemplate\u001b[0m \u001b[0;34m=\u001b[0m \u001b[0mself\u001b[0m\u001b[0;34m.\u001b[0m\u001b[0mloader\u001b[0m\u001b[0;34m.\u001b[0m\u001b[0mload\u001b[0m\u001b[0;34m(\u001b[0m\u001b[0mself\u001b[0m\u001b[0;34m,\u001b[0m \u001b[0mname\u001b[0m\u001b[0;34m,\u001b[0m \u001b[0mglobals\u001b[0m\u001b[0;34m)\u001b[0m\u001b[0;34m\u001b[0m\u001b[0m\n\u001b[0m\u001b[1;32m    766\u001b[0m         \u001b[0;32mif\u001b[0m \u001b[0mself\u001b[0m\u001b[0;34m.\u001b[0m\u001b[0mcache\u001b[0m \u001b[0;32mis\u001b[0m \u001b[0;32mnot\u001b[0m \u001b[0mNone\u001b[0m\u001b[0;34m:\u001b[0m\u001b[0;34m\u001b[0m\u001b[0m\n\u001b[1;32m    767\u001b[0m             \u001b[0mself\u001b[0m\u001b[0;34m.\u001b[0m\u001b[0mcache\u001b[0m\u001b[0;34m[\u001b[0m\u001b[0mname\u001b[0m\u001b[0;34m]\u001b[0m \u001b[0;34m=\u001b[0m \u001b[0mtemplate\u001b[0m\u001b[0;34m\u001b[0m\u001b[0m\n",
        "\u001b[0;32m/Library/Python/2.7/site-packages/jinja2/loaders.pyc\u001b[0m in \u001b[0;36mload\u001b[0;34m(self, environment, name, globals)\u001b[0m\n\u001b[1;32m    111\u001b[0m         \u001b[0;31m# first we try to get the source for this template together\u001b[0m\u001b[0;34m\u001b[0m\u001b[0;34m\u001b[0m\u001b[0m\n\u001b[1;32m    112\u001b[0m         \u001b[0;31m# with the filename and the uptodate function.\u001b[0m\u001b[0;34m\u001b[0m\u001b[0;34m\u001b[0m\u001b[0m\n\u001b[0;32m--> 113\u001b[0;31m         \u001b[0msource\u001b[0m\u001b[0;34m,\u001b[0m \u001b[0mfilename\u001b[0m\u001b[0;34m,\u001b[0m \u001b[0muptodate\u001b[0m \u001b[0;34m=\u001b[0m \u001b[0mself\u001b[0m\u001b[0;34m.\u001b[0m\u001b[0mget_source\u001b[0m\u001b[0;34m(\u001b[0m\u001b[0menvironment\u001b[0m\u001b[0;34m,\u001b[0m \u001b[0mname\u001b[0m\u001b[0;34m)\u001b[0m\u001b[0;34m\u001b[0m\u001b[0m\n\u001b[0m\u001b[1;32m    114\u001b[0m \u001b[0;34m\u001b[0m\u001b[0m\n\u001b[1;32m    115\u001b[0m         \u001b[0;31m# try to load the code from the bytecode cache if there is a\u001b[0m\u001b[0;34m\u001b[0m\u001b[0;34m\u001b[0m\u001b[0m\n",
        "\u001b[0;32m/Library/Python/2.7/site-packages/jinja2/loaders.pyc\u001b[0m in \u001b[0;36mget_source\u001b[0;34m(self, environment, template)\u001b[0m\n\u001b[1;32m    223\u001b[0m         \u001b[0mp\u001b[0m \u001b[0;34m=\u001b[0m \u001b[0;34m'/'\u001b[0m\u001b[0;34m.\u001b[0m\u001b[0mjoin\u001b[0m\u001b[0;34m(\u001b[0m\u001b[0;34m(\u001b[0m\u001b[0mself\u001b[0m\u001b[0;34m.\u001b[0m\u001b[0mpackage_path\u001b[0m\u001b[0;34m,\u001b[0m\u001b[0;34m)\u001b[0m \u001b[0;34m+\u001b[0m \u001b[0mtuple\u001b[0m\u001b[0;34m(\u001b[0m\u001b[0mpieces\u001b[0m\u001b[0;34m)\u001b[0m\u001b[0;34m)\u001b[0m\u001b[0;34m\u001b[0m\u001b[0m\n\u001b[1;32m    224\u001b[0m         \u001b[0;32mif\u001b[0m \u001b[0;32mnot\u001b[0m \u001b[0mself\u001b[0m\u001b[0;34m.\u001b[0m\u001b[0mprovider\u001b[0m\u001b[0;34m.\u001b[0m\u001b[0mhas_resource\u001b[0m\u001b[0;34m(\u001b[0m\u001b[0mp\u001b[0m\u001b[0;34m)\u001b[0m\u001b[0;34m:\u001b[0m\u001b[0;34m\u001b[0m\u001b[0m\n\u001b[0;32m--> 225\u001b[0;31m             \u001b[0;32mraise\u001b[0m \u001b[0mTemplateNotFound\u001b[0m\u001b[0;34m(\u001b[0m\u001b[0mtemplate\u001b[0m\u001b[0;34m)\u001b[0m\u001b[0;34m\u001b[0m\u001b[0m\n\u001b[0m\u001b[1;32m    226\u001b[0m \u001b[0;34m\u001b[0m\u001b[0m\n\u001b[1;32m    227\u001b[0m         \u001b[0mfilename\u001b[0m \u001b[0;34m=\u001b[0m \u001b[0muptodate\u001b[0m \u001b[0;34m=\u001b[0m \u001b[0mNone\u001b[0m\u001b[0;34m\u001b[0m\u001b[0m\n",
        "\u001b[0;31mTemplateNotFound\u001b[0m: leaflet-dvf.markers.min.js"
       ]
      }
     ],
     "prompt_number": 11
    },
    {
     "cell_type": "code",
     "collapsed": false,
     "input": [
      "#Standard OSM\n",
      "map_osm = folium.Map(location=[45.5236, -122.6750])\n",
      "map_osm"
     ],
     "language": "python",
     "metadata": {},
     "outputs": [
      {
       "html": [
        "\n",
        "<div id=\"folium_79531f53e4d64d94a1d331151cc6b2ec\" style=\"width: 100%; height: 100%\"></div>\n",
        "\n",
        "<script>\n",
        "\n",
        "  var make_plot = function(){\n",
        "    if (typeof L === 'undefined'){\n",
        "      window.addEventListener('leaflet_libs_loaded', make_plot)\n",
        "      return;\n",
        "    }\n",
        "\n",
        "    var render_plot = (function(){\n",
        "\n",
        "      \n",
        "\n",
        "      var map = L.map('folium_79531f53e4d64d94a1d331151cc6b2ec').setView([45.5236, -122.675], 10);\n",
        "\n",
        "      L.tileLayer('https://{s}.tile.openstreetmap.org/{z}/{x}/{y}.png', {\n",
        "          maxZoom: 18,\n",
        "          minZoom: 1,\n",
        "          attribution: 'Map data (c) <a href=\"http://openstreetmap.org\">OpenStreetMap</a> contributors'\n",
        "      }).addTo(map);\n",
        "\n",
        "      \n",
        "\n",
        "      \n",
        "\n",
        "      \n",
        "\n",
        "      \n",
        "\n",
        "      \n",
        "\n",
        "    })();\n",
        "\n",
        "  };\n",
        "\n",
        "  make_plot();\n",
        "\n",
        "</script>"
       ],
       "metadata": {},
       "output_type": "pyout",
       "prompt_number": 8,
       "text": [
        "<folium.folium.Map at 0x105205b90>"
       ]
      }
     ],
     "prompt_number": 8
    },
    {
     "cell_type": "code",
     "collapsed": false,
     "input": [
      "stamen = folium.Map(location=[45.5236, -122.6750], tiles='Stamen Toner',\n",
      "                    zoom_start=13)\n",
      "stamen"
     ],
     "language": "python",
     "metadata": {},
     "outputs": [
      {
       "html": [
        "\n",
        "<div id=\"folium_52fcff8a37cf441eb48851133602f29f\" style=\"width: 100%; height: 100%\"></div>\n",
        "\n",
        "<script>\n",
        "\n",
        "  var make_plot = function(){\n",
        "    if (typeof L === 'undefined'){\n",
        "      window.addEventListener('leaflet_libs_loaded', make_plot)\n",
        "      return;\n",
        "    }\n",
        "\n",
        "    var render_plot = (function(){\n",
        "\n",
        "      \n",
        "\n",
        "      var map = L.map('folium_52fcff8a37cf441eb48851133602f29f').setView([45.5236, -122.675], 13);\n",
        "\n",
        "      L.tileLayer('https://stamen-tiles-{s}.a.ssl.fastly.net/toner/{z}/{x}/{y}.jpg', {\n",
        "          maxZoom: 18,\n",
        "          minZoom: 1,\n",
        "          attribution: 'Map tiles by <a href=\"http://stamen.com\">Stamen Design</a>, under <a href=\"http://creativecommons.org/licenses/by/3.0\">CC BY 3.0</a>. Data by <a href=\"http://openstreetmap.org\">OpenStreetMap</a>, under <a href=\"http://creativecommons.org/licenses/by-sa/3.0\">CC BY SA</a>.'\n",
        "      }).addTo(map);\n",
        "\n",
        "      \n",
        "\n",
        "      \n",
        "\n",
        "      \n",
        "\n",
        "      \n",
        "\n",
        "      \n",
        "\n",
        "    })();\n",
        "\n",
        "  };\n",
        "\n",
        "  make_plot();\n",
        "\n",
        "</script>"
       ],
       "metadata": {},
       "output_type": "pyout",
       "prompt_number": 9,
       "text": [
        "<folium.folium.Map at 0x1051d6050>"
       ]
      }
     ],
     "prompt_number": 9
    },
    {
     "cell_type": "code",
     "collapsed": false,
     "input": [
      "mt_hood = folium.Map(location=[45.372, -121.6972], zoom_start=12,\n",
      "                     tiles='Stamen Terrain')\n",
      "mt_hood.simple_marker([45.3288, -121.6625], popup='Mt. Hood Meadows')\n",
      "mt_hood.simple_marker([45.3311, -121.7113], popup='Timberline Lodge')\n",
      "mt_hood"
     ],
     "language": "python",
     "metadata": {},
     "outputs": [
      {
       "html": [
        "\n",
        "<div id=\"folium_e7072db96f9948d48cda229c5abb9bd4\" style=\"width: 960px; height: 500px\"></div>\n",
        "\n",
        "<script>\n",
        "\n",
        "  var make_plot = function(){\n",
        "    if (typeof L === 'undefined'){\n",
        "      window.addEventListener('leaflet_libs_loaded', make_plot)\n",
        "      return;\n",
        "    }\n",
        "\n",
        "    var render_plot = (function(){\n",
        "\n",
        "      \n",
        "\n",
        "      var map = L.map('folium_e7072db96f9948d48cda229c5abb9bd4').setView([45.372, -121.6972], 12);\n",
        "\n",
        "      L.tileLayer('http://{s}.tile.stamen.com/terrain/{z}/{x}/{y}.jpg', {\n",
        "          maxZoom: 18,\n",
        "          attribution: 'Map tiles by <a href=\"http://stamen.com\">Stamen Design</a>, under <a href=\"http://creativecommons.org/licenses/by/3.0\">CC BY 3.0</a>. Data by <a href=\"http://openstreetmap.org\">OpenStreetMap</a>, under <a href=\"http://creativecommons.org/licenses/by-sa/3.0\">CC BY SA</a>.'\n",
        "      }).addTo(map);\n",
        "\n",
        "      \n",
        "      var marker_1 = L.marker([45.3288, -121.6625]);\n",
        "      marker_1.bindPopup(\"Mt. Hood Meadows\");\n",
        "      map.addLayer(marker_1)\n",
        "      \n",
        "      var marker_2 = L.marker([45.3311, -121.7113]);\n",
        "      marker_2.bindPopup(\"Timberline Lodge\");\n",
        "      map.addLayer(marker_2)\n",
        "      \n",
        "\n",
        "      \n",
        "\n",
        "      \n",
        "\n",
        "      \n",
        "\n",
        "    })();\n",
        "\n",
        "  };\n",
        "\n",
        "  make_plot();\n",
        "\n",
        "</script>"
       ],
       "metadata": {},
       "output_type": "pyout",
       "prompt_number": 4,
       "text": [
        "<folium.folium.Map at 0x107fb3ad0>"
       ]
      }
     ],
     "prompt_number": 4
    },
    {
     "cell_type": "code",
     "collapsed": false,
     "input": [
      "portland = folium.Map(location=[45.5236, -122.6750], tiles='Stamen Toner',\n",
      "                      zoom_start=13)\n",
      "portland.simple_marker(location=[45.5244, -122.6699], popup='The Waterfront')\n",
      "portland.circle_marker(location=[45.5215, -122.6261], radius=500,\n",
      "                       popup='Laurelhurst Park', line_color='#3186cc',\n",
      "                       fill_color='#3186cc')\n",
      "portland"
     ],
     "language": "python",
     "metadata": {},
     "outputs": [
      {
       "html": [
        "\n",
        "<div id=\"folium_fb0f9a0adb004c1883b80b0fadc18cb0\" style=\"width: 960px; height: 500px\"></div>\n",
        "\n",
        "<script>\n",
        "\n",
        "  var make_plot = function(){\n",
        "    if (typeof L === 'undefined'){\n",
        "      window.addEventListener('leaflet_libs_loaded', make_plot)\n",
        "      return;\n",
        "    }\n",
        "\n",
        "    var render_plot = (function(){\n",
        "\n",
        "      \n",
        "\n",
        "      var map = L.map('folium_fb0f9a0adb004c1883b80b0fadc18cb0').setView([45.5236, -122.675], 13);\n",
        "\n",
        "      L.tileLayer('http://{s}.tile.stamen.com/toner/{z}/{x}/{y}.jpg', {\n",
        "          maxZoom: 18,\n",
        "          attribution: 'Map tiles by <a href=\"http://stamen.com\">Stamen Design</a>, under <a href=\"http://creativecommons.org/licenses/by/3.0\">CC BY 3.0</a>. Data by <a href=\"http://openstreetmap.org\">OpenStreetMap</a>, under <a href=\"http://creativecommons.org/licenses/by-sa/3.0\">CC BY SA</a>.'\n",
        "      }).addTo(map);\n",
        "\n",
        "      \n",
        "      var marker_1 = L.marker([45.5244, -122.6699]);\n",
        "      marker_1.bindPopup(\"The Waterfront\");\n",
        "      map.addLayer(marker_1)\n",
        "      \n",
        "      var circle_1 = L.circle([45.5215, -122.6261], 500, {\n",
        "                            color: '#3186cc',\n",
        "                            fillColor: '#3186cc',\n",
        "                            fillOpacity: 0.6\n",
        "                            });\n",
        "      circle_1.bindPopup(\"Laurelhurst Park\");\n",
        "      map.addLayer(circle_1)\n",
        "      \n",
        "\n",
        "      \n",
        "\n",
        "      \n",
        "\n",
        "      \n",
        "\n",
        "    })();\n",
        "\n",
        "  };\n",
        "\n",
        "  make_plot();\n",
        "\n",
        "</script>"
       ],
       "metadata": {},
       "output_type": "pyout",
       "prompt_number": 5,
       "text": [
        "<folium.folium.Map at 0x107fb3f90>"
       ]
      }
     ],
     "prompt_number": 5
    },
    {
     "cell_type": "code",
     "collapsed": false,
     "input": [
      "latlng = folium.Map(location=[46.1991, -122.1889], tiles='Stamen Terrain',\n",
      "                    zoom_start=13)\n",
      "latlng.lat_lng_popover()\n",
      "latlng"
     ],
     "language": "python",
     "metadata": {},
     "outputs": [
      {
       "html": [
        "\n",
        "<div id=\"folium_8b08eefa48d64977bc287fd80319ebfd\" style=\"width: 960px; height: 500px\"></div>\n",
        "\n",
        "<script>\n",
        "\n",
        "  var make_plot = function(){\n",
        "    if (typeof L === 'undefined'){\n",
        "      window.addEventListener('leaflet_libs_loaded', make_plot)\n",
        "      return;\n",
        "    }\n",
        "\n",
        "    var render_plot = (function(){\n",
        "\n",
        "      \n",
        "\n",
        "      var map = L.map('folium_8b08eefa48d64977bc287fd80319ebfd').setView([46.1991, -122.1889], 13);\n",
        "\n",
        "      L.tileLayer('http://{s}.tile.stamen.com/terrain/{z}/{x}/{y}.jpg', {\n",
        "          maxZoom: 18,\n",
        "          attribution: 'Map tiles by <a href=\"http://stamen.com\">Stamen Design</a>, under <a href=\"http://creativecommons.org/licenses/by/3.0\">CC BY 3.0</a>. Data by <a href=\"http://openstreetmap.org\">OpenStreetMap</a>, under <a href=\"http://creativecommons.org/licenses/by-sa/3.0\">CC BY SA</a>.'\n",
        "      }).addTo(map);\n",
        "\n",
        "      \n",
        "\n",
        "      \n",
        "\n",
        "      var popup = L.popup();\n",
        "\n",
        "function latLngPop(e) {\n",
        "    popup.setLatLng(e.latlng)\n",
        "         .setContent(\"Latitude: \" + e.latlng.lat.toFixed(4) +\n",
        "                     \"<br>Longitude: \" + e.latlng.lng.toFixed(4))\n",
        "         .openOn(map);\n",
        "}\n",
        "\n",
        "map.on('click', latLngPop);\n",
        "\n",
        "      \n",
        "\n",
        "    })();\n",
        "\n",
        "  };\n",
        "\n",
        "  make_plot();\n",
        "\n",
        "</script>"
       ],
       "metadata": {},
       "output_type": "pyout",
       "prompt_number": 6,
       "text": [
        "<folium.folium.Map at 0x107fb3710>"
       ]
      }
     ],
     "prompt_number": 6
    },
    {
     "cell_type": "code",
     "collapsed": false,
     "input": [
      "waypoints = folium.Map(location=[46.8527, -121.7649], tiles='Stamen Terrain',\n",
      "                       zoom_start=13)\n",
      "waypoints.simple_marker(location=[46.8354, -121.7325], popup='Camp Muir')\n",
      "waypoints.click_for_marker(popup='Waypoint')\n",
      "waypoints"
     ],
     "language": "python",
     "metadata": {},
     "outputs": [
      {
       "html": [
        "\n",
        "<div id=\"folium_3fd3e91ba525422987bdc0e6449b4124\" style=\"width: 960px; height: 500px\"></div>\n",
        "\n",
        "<script>\n",
        "\n",
        "  var make_plot = function(){\n",
        "    if (typeof L === 'undefined'){\n",
        "      window.addEventListener('leaflet_libs_loaded', make_plot)\n",
        "      return;\n",
        "    }\n",
        "\n",
        "    var render_plot = (function(){\n",
        "\n",
        "      \n",
        "\n",
        "      var map = L.map('folium_3fd3e91ba525422987bdc0e6449b4124').setView([46.8527, -121.7649], 13);\n",
        "\n",
        "      L.tileLayer('http://{s}.tile.stamen.com/terrain/{z}/{x}/{y}.jpg', {\n",
        "          maxZoom: 18,\n",
        "          attribution: 'Map tiles by <a href=\"http://stamen.com\">Stamen Design</a>, under <a href=\"http://creativecommons.org/licenses/by/3.0\">CC BY 3.0</a>. Data by <a href=\"http://openstreetmap.org\">OpenStreetMap</a>, under <a href=\"http://creativecommons.org/licenses/by-sa/3.0\">CC BY SA</a>.'\n",
        "      }).addTo(map);\n",
        "\n",
        "      \n",
        "      var marker_1 = L.marker([46.8354, -121.7325]);\n",
        "      marker_1.bindPopup(\"Camp Muir\");\n",
        "      map.addLayer(marker_1)\n",
        "      \n",
        "\n",
        "      \n",
        "\n",
        "      \n",
        "\n",
        "      function newMarker(e){\n",
        "    var new_mark = L.marker().setLatLng(e.latlng).addTo(map);\n",
        "    new_mark.dragging.enable();\n",
        "    new_mark.on('dblclick', function(e){map.removeLayer(e.target)})\n",
        "    var lat = e.latlng.lat.toFixed(4),\n",
        "       lng = e.latlng.lng.toFixed(4);\n",
        "    new_mark.bindPopup(\"Waypoint\");\n",
        "};\n",
        "map.on('click', newMarker)\n",
        "\n",
        "    })();\n",
        "\n",
        "  };\n",
        "\n",
        "  make_plot();\n",
        "\n",
        "</script>"
       ],
       "metadata": {},
       "output_type": "pyout",
       "prompt_number": 7,
       "text": [
        "<folium.folium.Map at 0x107fb3d10>"
       ]
      }
     ],
     "prompt_number": 7
    },
    {
     "cell_type": "code",
     "collapsed": false,
     "input": [
      "polygons = folium.Map(location=[45.5236, -122.6750], zoom_start=13)\n",
      "polygons.polygon_marker(location=[45.5012, -122.6655], popup='Ross Island Bridge',\n",
      "                        fill_color='#132b5e', num_sides=3, radius=10)\n",
      "polygons.polygon_marker(location=[45.5132, -122.6708], popup='Hawthorne Bridge',\n",
      "                        fill_color='#45647d', num_sides=4, radius=10)\n",
      "polygons.polygon_marker(location=[45.5275, -122.6692], popup='Steel Bridge',\n",
      "                        fill_color='#769d96', num_sides=6, radius=10)\n",
      "polygons.polygon_marker(location=[45.5318, -122.6745], popup='Broadway Bridge',\n",
      "                        fill_color='#769d96', num_sides=8, radius=10)\n",
      "polygons"
     ],
     "language": "python",
     "metadata": {},
     "outputs": [
      {
       "html": [
        "\n",
        "<div id=\"folium_638e59336f434ed7bbc3accdab224df8\" style=\"width: 960px; height: 500px\"></div>\n",
        "\n",
        "<script>\n",
        "\n",
        "  var make_plot = function(){\n",
        "    if (typeof L === 'undefined'){\n",
        "      window.addEventListener('leaflet_libs_loaded', make_plot)\n",
        "      return;\n",
        "    }\n",
        "\n",
        "    var render_plot = (function(){\n",
        "\n",
        "      \n",
        "\n",
        "      var map = L.map('folium_638e59336f434ed7bbc3accdab224df8').setView([45.5236, -122.675], 13);\n",
        "\n",
        "      L.tileLayer('http://{s}.tile.openstreetmap.org/{z}/{x}/{y}.png', {\n",
        "          maxZoom: 18,\n",
        "          attribution: 'Map data (c) <a href=\"http://openstreetmap.org\">OpenStreetMap</a> contributors'\n",
        "      }).addTo(map);\n",
        "\n",
        "      \n",
        "      var polygon_1 = new L.RegularPolygonMarker(new L.LatLng(45.5012, -122.6655), {\n",
        "    color: 'black',\n",
        "    opacity: 1,\n",
        "    weight: 2,\n",
        "    fillColor: '#132b5e',\n",
        "    fillOpacity: 1,\n",
        "    numberOfSides: 3,\n",
        "    rotation: 0,\n",
        "    radius: 10\n",
        "});\n",
        "      polygon_1.bindPopup(\"Ross Island Bridge\");\n",
        "      map.addLayer(polygon_1)\n",
        "      \n",
        "      var polygon_2 = new L.RegularPolygonMarker(new L.LatLng(45.5132, -122.6708), {\n",
        "    color: 'black',\n",
        "    opacity: 1,\n",
        "    weight: 2,\n",
        "    fillColor: '#45647d',\n",
        "    fillOpacity: 1,\n",
        "    numberOfSides: 4,\n",
        "    rotation: 0,\n",
        "    radius: 10\n",
        "});\n",
        "      polygon_2.bindPopup(\"Hawthorne Bridge\");\n",
        "      map.addLayer(polygon_2)\n",
        "      \n",
        "      var polygon_3 = new L.RegularPolygonMarker(new L.LatLng(45.5275, -122.6692), {\n",
        "    color: 'black',\n",
        "    opacity: 1,\n",
        "    weight: 2,\n",
        "    fillColor: '#769d96',\n",
        "    fillOpacity: 1,\n",
        "    numberOfSides: 6,\n",
        "    rotation: 0,\n",
        "    radius: 10\n",
        "});\n",
        "      polygon_3.bindPopup(\"Steel Bridge\");\n",
        "      map.addLayer(polygon_3)\n",
        "      \n",
        "      var polygon_4 = new L.RegularPolygonMarker(new L.LatLng(45.5318, -122.6745), {\n",
        "    color: 'black',\n",
        "    opacity: 1,\n",
        "    weight: 2,\n",
        "    fillColor: '#769d96',\n",
        "    fillOpacity: 1,\n",
        "    numberOfSides: 8,\n",
        "    rotation: 0,\n",
        "    radius: 10\n",
        "});\n",
        "      polygon_4.bindPopup(\"Broadway Bridge\");\n",
        "      map.addLayer(polygon_4)\n",
        "      \n",
        "\n",
        "      \n",
        "\n",
        "      \n",
        "\n",
        "      \n",
        "\n",
        "    })();\n",
        "\n",
        "  };\n",
        "\n",
        "  make_plot();\n",
        "\n",
        "</script>"
       ],
       "metadata": {},
       "output_type": "pyout",
       "prompt_number": 8,
       "text": [
        "<folium.folium.Map at 0x108044b90>"
       ]
      }
     ],
     "prompt_number": 8
    },
    {
     "cell_type": "code",
     "collapsed": false,
     "input": [
      "import vincent\n",
      "NOAA_46041 = pd.read_csv(r'NOAA_46041.csv', index_col=3,\n",
      "                         parse_dates=True)\n",
      "NOAA_46050 = pd.read_csv(r'NOAA_46050_WS.csv', index_col=3,\n",
      "                         parse_dates=True)\n",
      "NOAA_46243 = pd.read_csv(r'NOAA_46243.csv', index_col=3,\n",
      "                         parse_dates=True)\n",
      "\n",
      "NOAA_46041 = NOAA_46041.dropna()\n",
      "\n",
      "#Binned wind speeds for NOAA 46050\n",
      "bins = range(0, 13, 1)\n",
      "cuts = pd.cut(NOAA_46050['wind_speed_cwind (m/s)'], bins)\n",
      "ws_binned = pd.value_counts(cuts).reindex(cuts.levels)\n",
      "\n",
      "#NOAA 46401 Wave Period\n",
      "vis1 = vincent.Line(NOAA_46041['dominant_wave_period (s)'],\n",
      "                    width=400, height=200)\n",
      "vis1.axis_titles(x='Time', y='Dominant Wave Period (s)')\n",
      "vis1.to_json('vis1.json')\n",
      "\n",
      "#NOAA 46050 Binned Wind Speed\n",
      "vis2 = vincent.Bar(ws_binned, width=400, height=200)\n",
      "vis2.axis_titles(x='Wind Speed (m/s)', y='# of Obs')\n",
      "vis2.to_json('vis2.json')\n",
      "\n",
      "#NOAA 46243 Wave Height\n",
      "vis3 = vincent.Area(NOAA_46243['significant_wave_height (m)'],\n",
      "                    width=400, height=200)\n",
      "vis3.axis_titles(x='Time', y='Significant Wave Height (m)')\n",
      "vis3.to_json('vis3.json')\n",
      "\n",
      "#Map all buoys\n",
      "buoy_map = folium.Map(location=[46.3014, -123.7390], zoom_start=7,\n",
      "                      tiles='Stamen Terrain')\n",
      "buoy_map.polygon_marker(location=[47.3489, -124.708], fill_color='#43d9de',\n",
      "                        radius=12, popup=(vis1, 'vis1.json'))\n",
      "buoy_map.polygon_marker(location=[44.639, -124.5339], fill_color='#43d9de',\n",
      "                        radius=12, popup=(vis2, 'vis2.json'))\n",
      "buoy_map.polygon_marker(location=[46.216, -124.1280], fill_color='#43d9de',\n",
      "                        radius=12, popup=(vis3, 'vis3.json'))\n",
      "buoy_map.create_map(path='NOAA_buoys.html')\n",
      "buoy_map.render_iframe = True\n",
      "buoy_map"
     ],
     "language": "python",
     "metadata": {},
     "outputs": [
      {
       "html": [
        "<iframe class=\"folium-iframe\" src=\"files/NOAA_buoys.html\" style=\"width: 960px; height: 500px; border: none; margin-left: 75px;\" scrolling=\"no\"></iframe>"
       ],
       "metadata": {},
       "output_type": "pyout",
       "prompt_number": 9,
       "text": [
        "<folium.folium.Map at 0x1082ae3d0>"
       ]
      }
     ],
     "prompt_number": 9
    },
    {
     "cell_type": "code",
     "collapsed": false,
     "input": [
      "state_geo = r'us-states.json'\n",
      "state_unemployment = r'US_Unemployment_Oct2012.csv'\n",
      "\n",
      "state_data = pd.read_csv(state_unemployment)\n",
      "\n",
      "#Let Folium determine the scale\n",
      "states = folium.Map(location=[48, -102], zoom_start=3)\n",
      "states.geo_json(geo_path=state_geo, data=state_data,\n",
      "                columns=['State', 'Unemployment'],\n",
      "                key_on='feature.id',\n",
      "                fill_color='YlGn', fill_opacity=0.7, line_opacity=0.2,\n",
      "                legend_name='Unemployment Rate (%)')\n",
      "states.create_map(path='us_state_map.html')\n",
      "states"
     ],
     "language": "python",
     "metadata": {},
     "outputs": [
      {
       "html": [
        "<iframe class=\"folium-iframe\" src=\"files/us_state_map.html\" style=\"width: 960px; height: 500px; border: none; margin-left: 75px;\" scrolling=\"no\"></iframe>"
       ],
       "metadata": {},
       "output_type": "pyout",
       "prompt_number": 10,
       "text": [
        "<folium.folium.Map at 0x108044950>"
       ]
      }
     ],
     "prompt_number": 10
    },
    {
     "cell_type": "code",
     "collapsed": false,
     "input": [
      "states2 = folium.Map(location=[48, -102], zoom_start=3)\n",
      "states2.geo_json(geo_path=state_geo, data=state_data,\n",
      "                 columns=['State', 'Unemployment'],\n",
      "                 threshold_scale=[5, 6, 7, 8, 9, 10],\n",
      "                 key_on='feature.id',\n",
      "                 fill_color='BuPu', fill_opacity=0.7, line_opacity=0.5,\n",
      "                 legend_name='Unemployment Rate (%)',\n",
      "                 reset=True)\n",
      "states2.create_map(path='us_state_map_2.html')\n",
      "states2"
     ],
     "language": "python",
     "metadata": {},
     "outputs": [
      {
       "html": [
        "<iframe class=\"folium-iframe\" src=\"files/us_state_map_2.html\" style=\"width: 960px; height: 500px; border: none; margin-left: 75px;\" scrolling=\"no\"></iframe>"
       ],
       "metadata": {},
       "output_type": "pyout",
       "prompt_number": 11,
       "text": [
        "<folium.folium.Map at 0x1080ae350>"
       ]
      }
     ],
     "prompt_number": 11
    },
    {
     "cell_type": "code",
     "collapsed": false,
     "input": [
      "county_data = r'us_county_data.csv'\n",
      "county_geo = r'us_counties_20m_topo.json'\n",
      "\n",
      "#Read into Dataframe, cast to string for consistency\n",
      "df = pd.read_csv(county_data, na_values=[' '])\n",
      "df['FIPS_Code'] = df['FIPS_Code'].astype(str)\n",
      "\n",
      "\n",
      "def set_id(fips):\n",
      "    '''Modify FIPS code to match GeoJSON property'''\n",
      "    if fips == '0':\n",
      "        return None\n",
      "    elif len(fips) <= 4:\n",
      "        return ''.join(['0500000US0', fips])\n",
      "    else:\n",
      "        return ''.join(['0500000US', fips])\n",
      "\n",
      "#Apply set_id, drop NaN\n",
      "df['GEO_ID'] = df['FIPS_Code'].apply(set_id)\n",
      "df = df.dropna()\n",
      "\n",
      "#Number of employed with auto scale\n",
      "map_1 = folium.Map(location=[48, -102], zoom_start=3)\n",
      "map_1.geo_json(geo_path=county_geo, data_out='data1.json', data=df,\n",
      "               columns=['GEO_ID', 'Employed_2011'],\n",
      "               key_on='feature.id',\n",
      "               fill_color='YlOrRd', fill_opacity=0.7, line_opacity=0.3,\n",
      "               topojson='objects.us_counties_20m')\n",
      "map_1.create_map(path='map_1.html')\n",
      "map_1"
     ],
     "language": "python",
     "metadata": {},
     "outputs": [
      {
       "html": [
        "<iframe class=\"folium-iframe\" src=\"files/map_1.html\" style=\"width: 960px; height: 500px; border: none; margin-left: 75px;\" scrolling=\"no\"></iframe>"
       ],
       "metadata": {},
       "output_type": "pyout",
       "prompt_number": 12,
       "text": [
        "<folium.folium.Map at 0x1080ae090>"
       ]
      }
     ],
     "prompt_number": 12
    },
    {
     "cell_type": "code",
     "collapsed": false,
     "input": [
      "map_2 = folium.Map(location=[40, -99], zoom_start=4)\n",
      "map_2.geo_json(geo_path=county_geo, data_out='data2.json', data=df,\n",
      "               columns=['GEO_ID', 'Unemployment_rate_2011'],\n",
      "               key_on='feature.id',\n",
      "               threshold_scale=[0, 5, 7, 9, 11, 13],\n",
      "               fill_color='YlGnBu', line_opacity=0.3,\n",
      "               legend_name='Unemployment Rate 2011 (%)',\n",
      "               topojson='objects.us_counties_20m')\n",
      "map_2.create_map(path='map_2.html')\n",
      "map_2"
     ],
     "language": "python",
     "metadata": {},
     "outputs": [
      {
       "html": [
        "<iframe class=\"folium-iframe\" src=\"files/map_2.html\" style=\"width: 960px; height: 500px; border: none; margin-left: 75px;\" scrolling=\"no\"></iframe>"
       ],
       "metadata": {},
       "output_type": "pyout",
       "prompt_number": 13,
       "text": [
        "<folium.folium.Map at 0x107fb3c50>"
       ]
      }
     ],
     "prompt_number": 13
    },
    {
     "cell_type": "code",
     "collapsed": false,
     "input": [
      "map_3 = folium.Map(location=[40, -99], zoom_start=4)\n",
      "map_3.geo_json(geo_path=county_geo, data_out='data3.json', data=df,\n",
      "               columns=['GEO_ID', 'Median_Household_Income_2011'],\n",
      "               key_on='feature.id',\n",
      "               fill_color='PuRd', line_opacity=0.3,\n",
      "               legend_name='Median Household Income 2011 ($)',\n",
      "               topojson='objects.us_counties_20m')\n",
      "map_3.create_map(path='map_3.html')\n",
      "map_3"
     ],
     "language": "python",
     "metadata": {},
     "outputs": [
      {
       "html": [
        "<iframe class=\"folium-iframe\" src=\"files/map_3.html\" style=\"width: 960px; height: 500px; border: none; margin-left: 75px;\" scrolling=\"no\"></iframe>"
       ],
       "metadata": {},
       "output_type": "pyout",
       "prompt_number": 14,
       "text": [
        "<folium.folium.Map at 0x107fb3290>"
       ]
      }
     ],
     "prompt_number": 14
    }
   ],
   "metadata": {}
  }
 ]
}